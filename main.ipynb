{
 "cells": [
  {
   "attachments": {},
   "cell_type": "markdown",
   "metadata": {},
   "source": [
    "Demo Hello World app"
   ]
  },
  {
   "cell_type": "code",
   "execution_count": 1,
   "metadata": {},
   "outputs": [
    {
     "name": "stdout",
     "output_type": "stream",
     "text": [
      "\u001b[1;35m[WARNING]: No inventory was parsed, only implicit localhost is available\u001b[0m\n",
      "\u001b[1;35m[WARNING]: provided hosts list is empty, only localhost is available. Note that\u001b[0m\n",
      "\u001b[1;35mthe implicit localhost does not match 'all'\u001b[0m\n",
      "\n",
      "PLAY [localhost] ***************************************************************\n",
      "\n",
      "TASK [Gathering Facts] *********************************************************\n",
      "\u001b[0;32mok: [localhost]\u001b[0m\n",
      "\n",
      "TASK [Test that my hello_world module works] ***********************************\n",
      "\u001b[0;32mok: [localhost]\u001b[0m\n",
      "\n",
      "TASK [debug] *******************************************************************\n",
      "\u001b[0;32mok: [localhost] => {\u001b[0m\n",
      "\u001b[0;32m    \"result\": {\u001b[0m\n",
      "\u001b[0;32m        \"changed\": false,\u001b[0m\n",
      "\u001b[0;32m        \"failed\": false,\u001b[0m\n",
      "\u001b[0;32m        \"meta\": {\u001b[0m\n",
      "\u001b[0;32m            \"hello\": \"world\"\u001b[0m\n",
      "\u001b[0;32m        }\u001b[0m\n",
      "\u001b[0;32m    }\u001b[0m\n",
      "\u001b[0;32m}\u001b[0m\n",
      "\n",
      "PLAY RECAP *********************************************************************\n",
      "\u001b[0;32mlocalhost\u001b[0m                  : \u001b[0;32mok=3   \u001b[0m changed=0    unreachable=0    failed=0    skipped=0    rescued=0    ignored=0   \n",
      "\n"
     ]
    }
   ],
   "source": [
    "!ansible-playbook hello_world.yml"
   ]
  },
  {
   "attachments": {},
   "cell_type": "markdown",
   "metadata": {},
   "source": [
    "Pass variables in and out of a Python module"
   ]
  },
  {
   "cell_type": "code",
   "execution_count": 3,
   "metadata": {},
   "outputs": [
    {
     "name": "stdout",
     "output_type": "stream",
     "text": [
      "\u001b[1;35m[WARNING]: No inventory was parsed, only implicit localhost is available\u001b[0m\n",
      "\u001b[1;35m[WARNING]: provided hosts list is empty, only localhost is available. Note that\u001b[0m\n",
      "\u001b[1;35mthe implicit localhost does not match 'all'\u001b[0m\n",
      "\n",
      "PLAY [localhost] ***************************************************************\n",
      "\n",
      "TASK [Gathering Facts] *********************************************************\n",
      "\u001b[0;32mok: [localhost]\u001b[0m\n",
      "\n",
      "TASK [Test that my change_version module works] ********************************\n",
      "\u001b[0;33mchanged: [localhost]\u001b[0m\n",
      "\n",
      "TASK [debug] *******************************************************************\n",
      "\u001b[0;32mok: [localhost] => {\u001b[0m\n",
      "\u001b[0;32m    \"result\": {\u001b[0m\n",
      "\u001b[0;32m        \"changed\": true,\u001b[0m\n",
      "\u001b[0;32m        \"failed\": false,\u001b[0m\n",
      "\u001b[0;32m        \"meta\": {\u001b[0m\n",
      "\u001b[0;32m            \"unchanged_value\": \"This will pass through\",\u001b[0m\n",
      "\u001b[0;32m            \"version_name\": \"After\",\u001b[0m\n",
      "\u001b[0;32m            \"version_no\": \"1.2.2\"\u001b[0m\n",
      "\u001b[0;32m        }\u001b[0m\n",
      "\u001b[0;32m    }\u001b[0m\n",
      "\u001b[0;32m}\u001b[0m\n",
      "\n",
      "PLAY RECAP *********************************************************************\n",
      "\u001b[0;33mlocalhost\u001b[0m                  : \u001b[0;32mok=3   \u001b[0m \u001b[0;33mchanged=1   \u001b[0m unreachable=0    failed=0    skipped=0    rescued=0    ignored=0   \n",
      "\n"
     ]
    }
   ],
   "source": [
    "!ansible-playbook version_change.yml"
   ]
  },
  {
   "cell_type": "markdown",
   "metadata": {},
   "source": []
  }
 ],
 "metadata": {
  "kernelspec": {
   "display_name": "ansible-module",
   "language": "python",
   "name": "python3"
  },
  "language_info": {
   "codemirror_mode": {
    "name": "ipython",
    "version": 3
   },
   "file_extension": ".py",
   "mimetype": "text/x-python",
   "name": "python",
   "nbconvert_exporter": "python",
   "pygments_lexer": "ipython3",
   "version": "3.8.17"
  },
  "orig_nbformat": 4
 },
 "nbformat": 4,
 "nbformat_minor": 2
}
