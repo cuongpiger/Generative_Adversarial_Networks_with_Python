{
 "cells": [
  {
   "cell_type": "code",
   "execution_count": 5,
   "source": [
    "from keras.models import Sequential\n",
    "from keras.layers import Dense, Reshape, UpSampling2D, Conv2D\n",
    "\n",
    "# Conv2D: http://www.songho.ca/dsp/convolution/convolution.html#convolution_2d"
   ],
   "outputs": [],
   "metadata": {}
  },
  {
   "cell_type": "code",
   "execution_count": 6,
   "source": [
    "model = Sequential()\n",
    "model.add(Dense(128 * 5 * 5, input_dim=100))\n",
    "model.add(Reshape((5, 5, 128)))\n",
    "model.add(UpSampling2D())\n",
    "model.add(Conv2D(1, (3, 3), padding='same'))\n",
    "\n",
    "model.summary()"
   ],
   "outputs": [
    {
     "output_type": "stream",
     "name": "stdout",
     "text": [
      "Model: \"sequential_3\"\n",
      "_________________________________________________________________\n",
      "Layer (type)                 Output Shape              Param #   \n",
      "=================================================================\n",
      "dense_3 (Dense)              (None, 3200)              323200    \n",
      "_________________________________________________________________\n",
      "reshape_3 (Reshape)          (None, 5, 5, 128)         0         \n",
      "_________________________________________________________________\n",
      "up_sampling2d_3 (UpSampling2 (None, 10, 10, 128)       0         \n",
      "_________________________________________________________________\n",
      "conv2d_3 (Conv2D)            (None, 10, 10, 1)         1153      \n",
      "=================================================================\n",
      "Total params: 324,353\n",
      "Trainable params: 324,353\n",
      "Non-trainable params: 0\n",
      "_________________________________________________________________\n"
     ]
    }
   ],
   "metadata": {}
  },
  {
   "cell_type": "code",
   "execution_count": null,
   "source": [],
   "outputs": [],
   "metadata": {}
  }
 ],
 "metadata": {
  "orig_nbformat": 4,
  "language_info": {
   "name": "python",
   "version": "3.6.8",
   "mimetype": "text/x-python",
   "codemirror_mode": {
    "name": "ipython",
    "version": 3
   },
   "pygments_lexer": "ipython3",
   "nbconvert_exporter": "python",
   "file_extension": ".py"
  },
  "kernelspec": {
   "name": "python3",
   "display_name": "Python 3.6.8 64-bit ('tensor2x': conda)"
  },
  "interpreter": {
   "hash": "d65fcd1f07c929fdb1e8f9d6054efa0019da167a8178be6b98d8f036a76e6824"
  }
 },
 "nbformat": 4,
 "nbformat_minor": 2
}