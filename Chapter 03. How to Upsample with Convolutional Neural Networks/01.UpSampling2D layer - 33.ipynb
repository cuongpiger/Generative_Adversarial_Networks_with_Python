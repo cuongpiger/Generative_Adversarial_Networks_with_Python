{
 "cells": [
  {
   "cell_type": "code",
   "execution_count": 1,
   "source": [
    "import numpy as np\n",
    "from keras.models import Sequential\n",
    "from keras.layers import UpSampling2D"
   ],
   "outputs": [
    {
     "output_type": "stream",
     "name": "stderr",
     "text": [
      "Using TensorFlow backend.\n"
     ]
    }
   ],
   "metadata": {}
  },
  {
   "cell_type": "code",
   "execution_count": 2,
   "source": [
    "X = np.asarray([\n",
    "    [1, 2],\n",
    "    [3, 4]    \n",
    "])\n",
    "\n",
    "print(X)"
   ],
   "outputs": [
    {
     "output_type": "stream",
     "name": "stdout",
     "text": [
      "[[1 2]\n",
      " [3 4]]\n"
     ]
    }
   ],
   "metadata": {}
  },
  {
   "cell_type": "code",
   "execution_count": 6,
   "source": [
    "X = X.reshape((1, 2, 2, 1))\n",
    "\n",
    "print(X)"
   ],
   "outputs": [
    {
     "output_type": "stream",
     "name": "stdout",
     "text": [
      "[[[[1]\n",
      "   [2]]\n",
      "\n",
      "  [[3]\n",
      "   [4]]]]\n"
     ]
    }
   ],
   "metadata": {}
  },
  {
   "cell_type": "code",
   "execution_count": 7,
   "source": [
    "model = Sequential()\n",
    "model.add(UpSampling2D(input_shape=(2, 2, 1)))\n",
    "\n",
    "model.summary()"
   ],
   "outputs": [
    {
     "output_type": "stream",
     "name": "stdout",
     "text": [
      "Model: \"sequential_1\"\n",
      "_________________________________________________________________\n",
      "Layer (type)                 Output Shape              Param #   \n",
      "=================================================================\n",
      "up_sampling2d_1 (UpSampling2 (None, 4, 4, 1)           0         \n",
      "=================================================================\n",
      "Total params: 0\n",
      "Trainable params: 0\n",
      "Non-trainable params: 0\n",
      "_________________________________________________________________\n"
     ]
    }
   ],
   "metadata": {}
  },
  {
   "cell_type": "code",
   "execution_count": 8,
   "source": [
    "yhat = model.predict(X)\n",
    "\n",
    "print(yhat)"
   ],
   "outputs": [
    {
     "output_type": "stream",
     "name": "stdout",
     "text": [
      "[[[[1.]\n",
      "   [1.]\n",
      "   [2.]\n",
      "   [2.]]\n",
      "\n",
      "  [[1.]\n",
      "   [1.]\n",
      "   [2.]\n",
      "   [2.]]\n",
      "\n",
      "  [[3.]\n",
      "   [3.]\n",
      "   [4.]\n",
      "   [4.]]\n",
      "\n",
      "  [[3.]\n",
      "   [3.]\n",
      "   [4.]\n",
      "   [4.]]]]\n"
     ]
    }
   ],
   "metadata": {}
  },
  {
   "cell_type": "code",
   "execution_count": 9,
   "source": [
    "yhat = yhat.reshape((4, 4))\n",
    "\n",
    "print(yhat)"
   ],
   "outputs": [
    {
     "output_type": "stream",
     "name": "stdout",
     "text": [
      "[[1. 1. 2. 2.]\n",
      " [1. 1. 2. 2.]\n",
      " [3. 3. 4. 4.]\n",
      " [3. 3. 4. 4.]]\n"
     ]
    }
   ],
   "metadata": {}
  },
  {
   "cell_type": "markdown",
   "source": [
    "<hr>"
   ],
   "metadata": {}
  },
  {
   "cell_type": "code",
   "execution_count": 10,
   "source": [
    "model = Sequential()\n",
    "model.add(UpSampling2D(input_shape=(2, 2, 1), size=(2, 3)))\n",
    "\n",
    "model.summary()"
   ],
   "outputs": [
    {
     "output_type": "stream",
     "name": "stdout",
     "text": [
      "Model: \"sequential_2\"\n",
      "_________________________________________________________________\n",
      "Layer (type)                 Output Shape              Param #   \n",
      "=================================================================\n",
      "up_sampling2d_2 (UpSampling2 (None, 4, 6, 1)           0         \n",
      "=================================================================\n",
      "Total params: 0\n",
      "Trainable params: 0\n",
      "Non-trainable params: 0\n",
      "_________________________________________________________________\n"
     ]
    }
   ],
   "metadata": {}
  },
  {
   "cell_type": "code",
   "execution_count": 11,
   "source": [
    "yhat = model.predict(X)\n",
    "\n",
    "print(yhat)"
   ],
   "outputs": [
    {
     "output_type": "stream",
     "name": "stdout",
     "text": [
      "[[[[1.]\n",
      "   [1.]\n",
      "   [1.]\n",
      "   [2.]\n",
      "   [2.]\n",
      "   [2.]]\n",
      "\n",
      "  [[1.]\n",
      "   [1.]\n",
      "   [1.]\n",
      "   [2.]\n",
      "   [2.]\n",
      "   [2.]]\n",
      "\n",
      "  [[3.]\n",
      "   [3.]\n",
      "   [3.]\n",
      "   [4.]\n",
      "   [4.]\n",
      "   [4.]]\n",
      "\n",
      "  [[3.]\n",
      "   [3.]\n",
      "   [3.]\n",
      "   [4.]\n",
      "   [4.]\n",
      "   [4.]]]]\n"
     ]
    }
   ],
   "metadata": {}
  },
  {
   "cell_type": "code",
   "execution_count": 13,
   "source": [
    "yhat = yhat.reshape((4, 6))\n",
    "\n",
    "print(yhat)"
   ],
   "outputs": [
    {
     "output_type": "stream",
     "name": "stdout",
     "text": [
      "[[1. 1. 1. 2. 2. 2.]\n",
      " [1. 1. 1. 2. 2. 2.]\n",
      " [3. 3. 3. 4. 4. 4.]\n",
      " [3. 3. 3. 4. 4. 4.]]\n"
     ]
    }
   ],
   "metadata": {}
  },
  {
   "cell_type": "markdown",
   "source": [
    "<hr>"
   ],
   "metadata": {}
  },
  {
   "cell_type": "code",
   "execution_count": 14,
   "source": [
    "model = Sequential()\n",
    "model.add(UpSampling2D(input_shape=(2, 2, 1), interpolation='bilinear'))\n",
    "\n",
    "model.summary()"
   ],
   "outputs": [
    {
     "output_type": "stream",
     "name": "stdout",
     "text": [
      "Model: \"sequential_3\"\n",
      "_________________________________________________________________\n",
      "Layer (type)                 Output Shape              Param #   \n",
      "=================================================================\n",
      "up_sampling2d_3 (UpSampling2 (None, 4, 4, 1)           0         \n",
      "=================================================================\n",
      "Total params: 0\n",
      "Trainable params: 0\n",
      "Non-trainable params: 0\n",
      "_________________________________________________________________\n"
     ]
    }
   ],
   "metadata": {}
  },
  {
   "cell_type": "code",
   "execution_count": 15,
   "source": [
    "yhat = model.predict(X)\n",
    "\n",
    "print(yhat)"
   ],
   "outputs": [
    {
     "output_type": "stream",
     "name": "stdout",
     "text": [
      "[[[[1. ]\n",
      "   [1.5]\n",
      "   [2. ]\n",
      "   [2. ]]\n",
      "\n",
      "  [[2. ]\n",
      "   [2.5]\n",
      "   [3. ]\n",
      "   [3. ]]\n",
      "\n",
      "  [[3. ]\n",
      "   [3.5]\n",
      "   [4. ]\n",
      "   [4. ]]\n",
      "\n",
      "  [[3. ]\n",
      "   [3.5]\n",
      "   [4. ]\n",
      "   [4. ]]]]\n"
     ]
    }
   ],
   "metadata": {}
  },
  {
   "cell_type": "code",
   "execution_count": 16,
   "source": [
    "yhat = yhat.reshape((4, 4))\n",
    "\n",
    "print(yhat)"
   ],
   "outputs": [
    {
     "output_type": "stream",
     "name": "stdout",
     "text": [
      "[[1.  1.5 2.  2. ]\n",
      " [2.  2.5 3.  3. ]\n",
      " [3.  3.5 4.  4. ]\n",
      " [3.  3.5 4.  4. ]]\n"
     ]
    }
   ],
   "metadata": {}
  },
  {
   "cell_type": "code",
   "execution_count": null,
   "source": [],
   "outputs": [],
   "metadata": {}
  }
 ],
 "metadata": {
  "orig_nbformat": 4,
  "language_info": {
   "name": "python",
   "version": "3.6.8",
   "mimetype": "text/x-python",
   "codemirror_mode": {
    "name": "ipython",
    "version": 3
   },
   "pygments_lexer": "ipython3",
   "nbconvert_exporter": "python",
   "file_extension": ".py"
  },
  "kernelspec": {
   "name": "python3",
   "display_name": "Python 3.6.8 64-bit ('tensor2x': conda)"
  },
  "interpreter": {
   "hash": "d65fcd1f07c929fdb1e8f9d6054efa0019da167a8178be6b98d8f036a76e6824"
  }
 },
 "nbformat": 4,
 "nbformat_minor": 2
}