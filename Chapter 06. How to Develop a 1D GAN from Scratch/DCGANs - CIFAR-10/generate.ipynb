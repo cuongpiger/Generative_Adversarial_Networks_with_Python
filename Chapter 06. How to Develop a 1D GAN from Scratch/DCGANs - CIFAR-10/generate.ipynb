{
 "cells": [
  {
   "cell_type": "markdown",
   "source": [
    "Trong phần này, chúng ta sẽ dùng DCGANs model tại epoch thứ 200 để phát sinh ra ảnh mới."
   ],
   "metadata": {}
  }
 ],
 "metadata": {
  "orig_nbformat": 4,
  "language_info": {
   "name": "python"
  }
 },
 "nbformat": 4,
 "nbformat_minor": 2
}